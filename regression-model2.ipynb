{
 "cells": [
  {
   "cell_type": "code",
   "execution_count": 1,
   "id": "b9c66754-aab5-4a12-aa75-a3ae1f9ebae5",
   "metadata": {},
   "outputs": [],
   "source": [
    "#Libraries and dependecies \n",
    "import pandas as pd\n",
    "import numpy as np\n",
    "import matplotlib.pyplot as plt\n",
    "import seaborn as sns\n",
    "\n",
    "from sklearn.preprocessing import StandardScaler\n",
    "from sklearn.model_selection import train_test_split\n",
    "from sklearn import linear_model\n",
    "from sklearn.linear_model import Ridge\n",
    "from sklearn.linear_model import RidgeCV\n",
    "from sklearn.linear_model import Lasso\n",
    "from sklearn.linear_model import LassoCV\n",
    "from sklearn.linear_model import ElasticNet\n",
    "from sklearn.linear_model import ElasticNetCV\n",
    "\n",
    "from sklearn.svm import SVR\n",
    "from sklearn.metrics import mean_squared_error,r2_score\n",
    "from sklearn.metrics import mean_absolute_percentage_error\n",
    "\n",
    "from sklearn.model_selection import cross_val_predict\n",
    "\n"
   ]
  },
  {
   "cell_type": "code",
   "execution_count": 2,
   "id": "e31badf2-b164-4303-b6a5-adbc9db3f93a",
   "metadata": {
    "tags": []
   },
   "outputs": [
    {
     "data": {
      "text/html": [
       "<div>\n",
       "<style scoped>\n",
       "    .dataframe tbody tr th:only-of-type {\n",
       "        vertical-align: middle;\n",
       "    }\n",
       "\n",
       "    .dataframe tbody tr th {\n",
       "        vertical-align: top;\n",
       "    }\n",
       "\n",
       "    .dataframe thead th {\n",
       "        text-align: right;\n",
       "    }\n",
       "</style>\n",
       "<table border=\"1\" class=\"dataframe\">\n",
       "  <thead>\n",
       "    <tr style=\"text-align: right;\">\n",
       "      <th></th>\n",
       "      <th>Week</th>\n",
       "      <th>wordle: (United States)</th>\n",
       "    </tr>\n",
       "  </thead>\n",
       "  <tbody>\n",
       "    <tr>\n",
       "      <th>0</th>\n",
       "      <td>2022-01-09</td>\n",
       "      <td>14</td>\n",
       "    </tr>\n",
       "    <tr>\n",
       "      <th>1</th>\n",
       "      <td>2022-01-16</td>\n",
       "      <td>31</td>\n",
       "    </tr>\n",
       "    <tr>\n",
       "      <th>2</th>\n",
       "      <td>2022-01-23</td>\n",
       "      <td>50</td>\n",
       "    </tr>\n",
       "    <tr>\n",
       "      <th>3</th>\n",
       "      <td>2022-01-30</td>\n",
       "      <td>74</td>\n",
       "    </tr>\n",
       "    <tr>\n",
       "      <th>4</th>\n",
       "      <td>2022-02-06</td>\n",
       "      <td>87</td>\n",
       "    </tr>\n",
       "    <tr>\n",
       "      <th>5</th>\n",
       "      <td>2022-02-13</td>\n",
       "      <td>100</td>\n",
       "    </tr>\n",
       "    <tr>\n",
       "      <th>6</th>\n",
       "      <td>2022-02-20</td>\n",
       "      <td>97</td>\n",
       "    </tr>\n",
       "    <tr>\n",
       "      <th>7</th>\n",
       "      <td>2022-02-27</td>\n",
       "      <td>92</td>\n",
       "    </tr>\n",
       "    <tr>\n",
       "      <th>8</th>\n",
       "      <td>2022-03-06</td>\n",
       "      <td>86</td>\n",
       "    </tr>\n",
       "    <tr>\n",
       "      <th>9</th>\n",
       "      <td>2022-03-13</td>\n",
       "      <td>83</td>\n",
       "    </tr>\n",
       "    <tr>\n",
       "      <th>10</th>\n",
       "      <td>2022-03-20</td>\n",
       "      <td>86</td>\n",
       "    </tr>\n",
       "    <tr>\n",
       "      <th>11</th>\n",
       "      <td>2022-03-27</td>\n",
       "      <td>86</td>\n",
       "    </tr>\n",
       "    <tr>\n",
       "      <th>12</th>\n",
       "      <td>2022-04-03</td>\n",
       "      <td>90</td>\n",
       "    </tr>\n",
       "    <tr>\n",
       "      <th>13</th>\n",
       "      <td>2022-04-10</td>\n",
       "      <td>81</td>\n",
       "    </tr>\n",
       "    <tr>\n",
       "      <th>14</th>\n",
       "      <td>2022-04-17</td>\n",
       "      <td>81</td>\n",
       "    </tr>\n",
       "    <tr>\n",
       "      <th>15</th>\n",
       "      <td>2022-04-24</td>\n",
       "      <td>74</td>\n",
       "    </tr>\n",
       "    <tr>\n",
       "      <th>16</th>\n",
       "      <td>2022-05-01</td>\n",
       "      <td>72</td>\n",
       "    </tr>\n",
       "    <tr>\n",
       "      <th>17</th>\n",
       "      <td>2022-05-08</td>\n",
       "      <td>71</td>\n",
       "    </tr>\n",
       "    <tr>\n",
       "      <th>18</th>\n",
       "      <td>2022-05-15</td>\n",
       "      <td>71</td>\n",
       "    </tr>\n",
       "    <tr>\n",
       "      <th>19</th>\n",
       "      <td>2022-05-22</td>\n",
       "      <td>63</td>\n",
       "    </tr>\n",
       "    <tr>\n",
       "      <th>20</th>\n",
       "      <td>2022-05-29</td>\n",
       "      <td>57</td>\n",
       "    </tr>\n",
       "    <tr>\n",
       "      <th>21</th>\n",
       "      <td>2022-06-05</td>\n",
       "      <td>58</td>\n",
       "    </tr>\n",
       "    <tr>\n",
       "      <th>22</th>\n",
       "      <td>2022-06-12</td>\n",
       "      <td>52</td>\n",
       "    </tr>\n",
       "    <tr>\n",
       "      <th>23</th>\n",
       "      <td>2022-06-19</td>\n",
       "      <td>51</td>\n",
       "    </tr>\n",
       "    <tr>\n",
       "      <th>24</th>\n",
       "      <td>2022-06-26</td>\n",
       "      <td>47</td>\n",
       "    </tr>\n",
       "    <tr>\n",
       "      <th>25</th>\n",
       "      <td>2022-07-03</td>\n",
       "      <td>50</td>\n",
       "    </tr>\n",
       "    <tr>\n",
       "      <th>26</th>\n",
       "      <td>2022-07-10</td>\n",
       "      <td>46</td>\n",
       "    </tr>\n",
       "    <tr>\n",
       "      <th>27</th>\n",
       "      <td>2022-07-17</td>\n",
       "      <td>47</td>\n",
       "    </tr>\n",
       "    <tr>\n",
       "      <th>28</th>\n",
       "      <td>2022-07-24</td>\n",
       "      <td>43</td>\n",
       "    </tr>\n",
       "    <tr>\n",
       "      <th>29</th>\n",
       "      <td>2022-07-31</td>\n",
       "      <td>44</td>\n",
       "    </tr>\n",
       "    <tr>\n",
       "      <th>30</th>\n",
       "      <td>2022-08-07</td>\n",
       "      <td>41</td>\n",
       "    </tr>\n",
       "    <tr>\n",
       "      <th>31</th>\n",
       "      <td>2022-08-14</td>\n",
       "      <td>43</td>\n",
       "    </tr>\n",
       "    <tr>\n",
       "      <th>32</th>\n",
       "      <td>2022-08-21</td>\n",
       "      <td>41</td>\n",
       "    </tr>\n",
       "    <tr>\n",
       "      <th>33</th>\n",
       "      <td>2022-08-28</td>\n",
       "      <td>41</td>\n",
       "    </tr>\n",
       "    <tr>\n",
       "      <th>34</th>\n",
       "      <td>2022-09-04</td>\n",
       "      <td>38</td>\n",
       "    </tr>\n",
       "    <tr>\n",
       "      <th>35</th>\n",
       "      <td>2022-09-11</td>\n",
       "      <td>42</td>\n",
       "    </tr>\n",
       "    <tr>\n",
       "      <th>36</th>\n",
       "      <td>2022-09-18</td>\n",
       "      <td>37</td>\n",
       "    </tr>\n",
       "    <tr>\n",
       "      <th>37</th>\n",
       "      <td>2022-09-25</td>\n",
       "      <td>35</td>\n",
       "    </tr>\n",
       "    <tr>\n",
       "      <th>38</th>\n",
       "      <td>2022-10-02</td>\n",
       "      <td>34</td>\n",
       "    </tr>\n",
       "    <tr>\n",
       "      <th>39</th>\n",
       "      <td>2022-10-09</td>\n",
       "      <td>38</td>\n",
       "    </tr>\n",
       "    <tr>\n",
       "      <th>40</th>\n",
       "      <td>2022-10-16</td>\n",
       "      <td>35</td>\n",
       "    </tr>\n",
       "    <tr>\n",
       "      <th>41</th>\n",
       "      <td>2022-10-23</td>\n",
       "      <td>36</td>\n",
       "    </tr>\n",
       "    <tr>\n",
       "      <th>42</th>\n",
       "      <td>2022-10-30</td>\n",
       "      <td>37</td>\n",
       "    </tr>\n",
       "    <tr>\n",
       "      <th>43</th>\n",
       "      <td>2022-11-06</td>\n",
       "      <td>32</td>\n",
       "    </tr>\n",
       "    <tr>\n",
       "      <th>44</th>\n",
       "      <td>2022-11-13</td>\n",
       "      <td>37</td>\n",
       "    </tr>\n",
       "    <tr>\n",
       "      <th>45</th>\n",
       "      <td>2022-11-20</td>\n",
       "      <td>35</td>\n",
       "    </tr>\n",
       "    <tr>\n",
       "      <th>46</th>\n",
       "      <td>2022-11-27</td>\n",
       "      <td>33</td>\n",
       "    </tr>\n",
       "    <tr>\n",
       "      <th>47</th>\n",
       "      <td>2022-12-04</td>\n",
       "      <td>35</td>\n",
       "    </tr>\n",
       "    <tr>\n",
       "      <th>48</th>\n",
       "      <td>2022-12-11</td>\n",
       "      <td>34</td>\n",
       "    </tr>\n",
       "    <tr>\n",
       "      <th>49</th>\n",
       "      <td>2022-12-18</td>\n",
       "      <td>35</td>\n",
       "    </tr>\n",
       "    <tr>\n",
       "      <th>50</th>\n",
       "      <td>2022-12-25</td>\n",
       "      <td>38</td>\n",
       "    </tr>\n",
       "  </tbody>\n",
       "</table>\n",
       "</div>"
      ],
      "text/plain": [
       "          Week  wordle: (United States)\n",
       "0   2022-01-09                       14\n",
       "1   2022-01-16                       31\n",
       "2   2022-01-23                       50\n",
       "3   2022-01-30                       74\n",
       "4   2022-02-06                       87\n",
       "5   2022-02-13                      100\n",
       "6   2022-02-20                       97\n",
       "7   2022-02-27                       92\n",
       "8   2022-03-06                       86\n",
       "9   2022-03-13                       83\n",
       "10  2022-03-20                       86\n",
       "11  2022-03-27                       86\n",
       "12  2022-04-03                       90\n",
       "13  2022-04-10                       81\n",
       "14  2022-04-17                       81\n",
       "15  2022-04-24                       74\n",
       "16  2022-05-01                       72\n",
       "17  2022-05-08                       71\n",
       "18  2022-05-15                       71\n",
       "19  2022-05-22                       63\n",
       "20  2022-05-29                       57\n",
       "21  2022-06-05                       58\n",
       "22  2022-06-12                       52\n",
       "23  2022-06-19                       51\n",
       "24  2022-06-26                       47\n",
       "25  2022-07-03                       50\n",
       "26  2022-07-10                       46\n",
       "27  2022-07-17                       47\n",
       "28  2022-07-24                       43\n",
       "29  2022-07-31                       44\n",
       "30  2022-08-07                       41\n",
       "31  2022-08-14                       43\n",
       "32  2022-08-21                       41\n",
       "33  2022-08-28                       41\n",
       "34  2022-09-04                       38\n",
       "35  2022-09-11                       42\n",
       "36  2022-09-18                       37\n",
       "37  2022-09-25                       35\n",
       "38  2022-10-02                       34\n",
       "39  2022-10-09                       38\n",
       "40  2022-10-16                       35\n",
       "41  2022-10-23                       36\n",
       "42  2022-10-30                       37\n",
       "43  2022-11-06                       32\n",
       "44  2022-11-13                       37\n",
       "45  2022-11-20                       35\n",
       "46  2022-11-27                       33\n",
       "47  2022-12-04                       35\n",
       "48  2022-12-11                       34\n",
       "49  2022-12-18                       35\n",
       "50  2022-12-25                       38"
      ]
     },
     "execution_count": 2,
     "metadata": {},
     "output_type": "execute_result"
    }
   ],
   "source": [
    "#Loading Data\n",
    "googleTrend = pd.read_csv(\"multiTimeline.csv\", sep=',', skiprows=[0])\n",
    "df = pd.read_csv('data_wordle.csv', usecols=['Week', 'Number of  reported results'], sep=',')\n",
    "googleTrend"
   ]
  },
  {
   "cell_type": "code",
   "execution_count": 3,
   "id": "1c344fd9-853f-480e-9e19-89b1ea3c00d4",
   "metadata": {
    "tags": []
   },
   "outputs": [],
   "source": [
    "# Convert date column to datetime format\n",
    "googleTrend['Week'] = pd.to_datetime(googleTrend['Week'])\n",
    "\n",
    "# Extract month from date column\n",
    "googleTrend['month_column'] = googleTrend['Week'].apply(lambda x: x.strftime('%m'))"
   ]
  },
  {
   "cell_type": "code",
   "execution_count": 4,
   "id": "5d8cf5de-d591-4487-b81a-ce8541d12f56",
   "metadata": {
    "tags": []
   },
   "outputs": [
    {
     "data": {
      "image/png": "[encoded data removed]",
      "text/plain": [
       "<Figure size 432x288 with 1 Axes>"
      ]
     },
     "metadata": {
      "needs_background": "light"
     },
     "output_type": "display_data"
    }
   ],
   "source": [
    "plt.plot(googleTrend['Week'], googleTrend['wordle: (United States)'])\n",
    "plt.xlabel('Date')\n",
    "plt.ylabel('Number of Reports')\n",
    "plt.show()"
   ]
  },
  {
   "cell_type": "code",
   "execution_count": 5,
   "id": "4d3da520-d8ee-4d8c-8725-e010c35f37c3",
   "metadata": {
    "tags": []
   },
   "outputs": [
    {
     "name": "stdout",
     "output_type": "stream",
     "text": [
      "{'2022-01-09': 14, '2022-01-16': 31, '2022-01-23': 50, '2022-01-30': 74, '2022-02-06': 87, '2022-02-13': 100, '2022-02-20': 97, '2022-02-27': 92, '2022-03-06': 86, '2022-03-13': 83, '2022-03-20': 86, '2022-03-27': 86, '2022-04-03': 90, '2022-04-10': 81, '2022-04-17': 81, '2022-04-24': 74, '2022-05-01': 72, '2022-05-08': 71, '2022-05-15': 71, '2022-05-22': 63, '2022-05-29': 57, '2022-06-05': 58, '2022-06-12': 52, '2022-06-19': 51, '2022-06-26': 47, '2022-07-03': 50, '2022-07-10': 46, '2022-07-17': 47, '2022-07-24': 43, '2022-07-31': 44, '2022-08-07': 41, '2022-08-14': 43, '2022-08-21': 41, '2022-08-28': 41, '2022-09-04': 38, '2022-09-11': 42, '2022-09-18': 37, '2022-09-25': 35, '2022-10-02': 34, '2022-10-09': 38, '2022-10-16': 35, '2022-10-23': 36, '2022-10-30': 37, '2022-11-06': 32, '2022-11-13': 37, '2022-11-20': 35, '2022-11-27': 33, '2022-12-04': 35, '2022-12-11': 34, '2022-12-18': 35, '2022-12-25': 38}\n"
     ]
    }
   ],
   "source": [
    "# Convert the 'Week' column to a string\n",
    "googleTrend['Week'] = pd.to_datetime(googleTrend['Week']).dt.date.astype(str)\n",
    "\n",
    "# Set the 'Week' column as the index and convert to a dictionary\n",
    "dict_list = googleTrend.set_index('Week')['wordle: (United States)'].to_dict()\n",
    "\n",
    "# Print the dictionary\n",
    "print(dict_list)"
   ]
  },
  {
   "cell_type": "code",
   "execution_count": 6,
   "id": "cf966b2d-390e-472d-88dd-b06bf32256fd",
   "metadata": {
    "tags": []
   },
   "outputs": [
    {
     "data": {
      "image/png": "[encoded data removed]",
      "text/plain": [
       "<Figure size 432x288 with 1 Axes>"
      ]
     },
     "metadata": {
      "needs_background": "light"
     },
     "output_type": "display_data"
    }
   ],
   "source": [
    "plt.plot(df['Week'], df['Number of  reported results'])\n",
    "plt.xlabel('Week')\n",
    "plt.ylabel('Number of Reports')\n",
    "plt.show()"
   ]
  },
  {
   "cell_type": "code",
   "execution_count": 7,
   "id": "27be0161-d9a9-4e65-8767-c224050f33a9",
   "metadata": {
    "tags": []
   },
   "outputs": [
    {
     "data": {
      "text/html": [
       "<div>\n",
       "<style scoped>\n",
       "    .dataframe tbody tr th:only-of-type {\n",
       "        vertical-align: middle;\n",
       "    }\n",
       "\n",
       "    .dataframe tbody tr th {\n",
       "        vertical-align: top;\n",
       "    }\n",
       "\n",
       "    .dataframe thead th {\n",
       "        text-align: right;\n",
       "    }\n",
       "</style>\n",
       "<table border=\"1\" class=\"dataframe\">\n",
       "  <thead>\n",
       "    <tr style=\"text-align: right;\">\n",
       "      <th></th>\n",
       "      <th>Week</th>\n",
       "      <th>Number of  reported results</th>\n",
       "      <th>Popularity</th>\n",
       "    </tr>\n",
       "  </thead>\n",
       "  <tbody>\n",
       "    <tr>\n",
       "      <th>0</th>\n",
       "      <td>2022-01-09</td>\n",
       "      <td>91477</td>\n",
       "      <td>14</td>\n",
       "    </tr>\n",
       "    <tr>\n",
       "      <th>1</th>\n",
       "      <td>2022-01-09</td>\n",
       "      <td>107134</td>\n",
       "      <td>14</td>\n",
       "    </tr>\n",
       "    <tr>\n",
       "      <th>2</th>\n",
       "      <td>2022-01-09</td>\n",
       "      <td>153880</td>\n",
       "      <td>14</td>\n",
       "    </tr>\n",
       "    <tr>\n",
       "      <th>3</th>\n",
       "      <td>2022-01-09</td>\n",
       "      <td>137586</td>\n",
       "      <td>14</td>\n",
       "    </tr>\n",
       "    <tr>\n",
       "      <th>4</th>\n",
       "      <td>2022-01-09</td>\n",
       "      <td>132726</td>\n",
       "      <td>14</td>\n",
       "    </tr>\n",
       "    <tr>\n",
       "      <th>...</th>\n",
       "      <td>...</td>\n",
       "      <td>...</td>\n",
       "      <td>...</td>\n",
       "    </tr>\n",
       "    <tr>\n",
       "      <th>352</th>\n",
       "      <td>2022-12-25</td>\n",
       "      <td>20879</td>\n",
       "      <td>38</td>\n",
       "    </tr>\n",
       "    <tr>\n",
       "      <th>353</th>\n",
       "      <td>2022-12-25</td>\n",
       "      <td>20160</td>\n",
       "      <td>38</td>\n",
       "    </tr>\n",
       "    <tr>\n",
       "      <th>354</th>\n",
       "      <td>2022-12-25</td>\n",
       "      <td>20001</td>\n",
       "      <td>38</td>\n",
       "    </tr>\n",
       "    <tr>\n",
       "      <th>355</th>\n",
       "      <td>2022-12-25</td>\n",
       "      <td>21204</td>\n",
       "      <td>38</td>\n",
       "    </tr>\n",
       "    <tr>\n",
       "      <th>356</th>\n",
       "      <td>2022-12-25</td>\n",
       "      <td>20380</td>\n",
       "      <td>38</td>\n",
       "    </tr>\n",
       "  </tbody>\n",
       "</table>\n",
       "<p>357 rows × 3 columns</p>\n",
       "</div>"
      ],
      "text/plain": [
       "           Week  Number of  reported results  Popularity\n",
       "0    2022-01-09                        91477          14\n",
       "1    2022-01-09                       107134          14\n",
       "2    2022-01-09                       153880          14\n",
       "3    2022-01-09                       137586          14\n",
       "4    2022-01-09                       132726          14\n",
       "..          ...                          ...         ...\n",
       "352  2022-12-25                        20879          38\n",
       "353  2022-12-25                        20160          38\n",
       "354  2022-12-25                        20001          38\n",
       "355  2022-12-25                        21204          38\n",
       "356  2022-12-25                        20380          38\n",
       "\n",
       "[357 rows x 3 columns]"
      ]
     },
     "execution_count": 7,
     "metadata": {},
     "output_type": "execute_result"
    }
   ],
   "source": [
    "arr = []\n",
    "for index, row in df.iterrows():\n",
    "    if row['Week'] in dict_list:\n",
    "        arr.append(dict_list[row['Week']])\n",
    "df['Popularity'] = arr\n",
    "df"
   ]
  },
  {
   "cell_type": "markdown",
   "id": "a6d7ee6c-584c-4663-8e45-13de5bdca247",
   "metadata": {
    "tags": []
   },
   "source": [
    "### __DATA EXPLORATION__"
   ]
  },
  {
   "cell_type": "markdown",
   "id": "bdb86585-2c88-40fd-bcd6-d7b8c12cf392",
   "metadata": {},
   "source": [
    "The initial step in the analysis was to verify the presence of missing or null values within the dataset. These missing values, if not addressed adequately, can have a negative impact on the performance or result in a biased model. After examination, it was determined that there were no missing values in the dataset."
   ]
  },
  {
   "cell_type": "code",
   "execution_count": 8,
   "id": "7194fb27-ad1c-4161-b4a2-2414a6d8df8f",
   "metadata": {},
   "outputs": [
    {
     "name": "stdout",
     "output_type": "stream",
     "text": [
      "<class 'pandas.core.frame.DataFrame'>\n",
      "RangeIndex: 357 entries, 0 to 356\n",
      "Data columns (total 3 columns):\n",
      " #   Column                       Non-Null Count  Dtype \n",
      "---  ------                       --------------  ----- \n",
      " 0   Week                         357 non-null    object\n",
      " 1   Number of  reported results  357 non-null    int64 \n",
      " 2   Popularity                   357 non-null    int64 \n",
      "dtypes: int64(2), object(1)\n",
      "memory usage: 8.5+ KB\n"
     ]
    },
    {
     "data": {
      "text/html": [
       "<div>\n",
       "<style scoped>\n",
       "    .dataframe tbody tr th:only-of-type {\n",
       "        vertical-align: middle;\n",
       "    }\n",
       "\n",
       "    .dataframe tbody tr th {\n",
       "        vertical-align: top;\n",
       "    }\n",
       "\n",
       "    .dataframe thead th {\n",
       "        text-align: right;\n",
       "    }\n",
       "</style>\n",
       "<table border=\"1\" class=\"dataframe\">\n",
       "  <thead>\n",
       "    <tr style=\"text-align: right;\">\n",
       "      <th></th>\n",
       "      <th>Week</th>\n",
       "      <th>Number of  reported results</th>\n",
       "      <th>Popularity</th>\n",
       "    </tr>\n",
       "  </thead>\n",
       "  <tbody>\n",
       "    <tr>\n",
       "      <th>0</th>\n",
       "      <td>2022-01-09</td>\n",
       "      <td>91477</td>\n",
       "      <td>14</td>\n",
       "    </tr>\n",
       "    <tr>\n",
       "      <th>1</th>\n",
       "      <td>2022-01-09</td>\n",
       "      <td>107134</td>\n",
       "      <td>14</td>\n",
       "    </tr>\n",
       "    <tr>\n",
       "      <th>2</th>\n",
       "      <td>2022-01-09</td>\n",
       "      <td>153880</td>\n",
       "      <td>14</td>\n",
       "    </tr>\n",
       "    <tr>\n",
       "      <th>3</th>\n",
       "      <td>2022-01-09</td>\n",
       "      <td>137586</td>\n",
       "      <td>14</td>\n",
       "    </tr>\n",
       "    <tr>\n",
       "      <th>4</th>\n",
       "      <td>2022-01-09</td>\n",
       "      <td>132726</td>\n",
       "      <td>14</td>\n",
       "    </tr>\n",
       "    <tr>\n",
       "      <th>...</th>\n",
       "      <td>...</td>\n",
       "      <td>...</td>\n",
       "      <td>...</td>\n",
       "    </tr>\n",
       "    <tr>\n",
       "      <th>352</th>\n",
       "      <td>2022-12-25</td>\n",
       "      <td>20879</td>\n",
       "      <td>38</td>\n",
       "    </tr>\n",
       "    <tr>\n",
       "      <th>353</th>\n",
       "      <td>2022-12-25</td>\n",
       "      <td>20160</td>\n",
       "      <td>38</td>\n",
       "    </tr>\n",
       "    <tr>\n",
       "      <th>354</th>\n",
       "      <td>2022-12-25</td>\n",
       "      <td>20001</td>\n",
       "      <td>38</td>\n",
       "    </tr>\n",
       "    <tr>\n",
       "      <th>355</th>\n",
       "      <td>2022-12-25</td>\n",
       "      <td>21204</td>\n",
       "      <td>38</td>\n",
       "    </tr>\n",
       "    <tr>\n",
       "      <th>356</th>\n",
       "      <td>2022-12-25</td>\n",
       "      <td>20380</td>\n",
       "      <td>38</td>\n",
       "    </tr>\n",
       "  </tbody>\n",
       "</table>\n",
       "<p>357 rows × 3 columns</p>\n",
       "</div>"
      ],
      "text/plain": [
       "           Week  Number of  reported results  Popularity\n",
       "0    2022-01-09                        91477          14\n",
       "1    2022-01-09                       107134          14\n",
       "2    2022-01-09                       153880          14\n",
       "3    2022-01-09                       137586          14\n",
       "4    2022-01-09                       132726          14\n",
       "..          ...                          ...         ...\n",
       "352  2022-12-25                        20879          38\n",
       "353  2022-12-25                        20160          38\n",
       "354  2022-12-25                        20001          38\n",
       "355  2022-12-25                        21204          38\n",
       "356  2022-12-25                        20380          38\n",
       "\n",
       "[357 rows x 3 columns]"
      ]
     },
     "execution_count": 8,
     "metadata": {},
     "output_type": "execute_result"
    }
   ],
   "source": [
    "#missing data\n",
    "\n",
    "df.info()\n",
    "df"
   ]
  },
  {
   "cell_type": "markdown",
   "id": "39711f49-4b29-4562-8ae6-4510f1b77d7e",
   "metadata": {},
   "source": [
    "Our table of statistics showed that the variables are spread widely. In machine learning, it is common for variables to have a wide range of values, as shown by the table of statistics. This wide spread can lead to inconsistencies and affect the predictions made by the model. To address this issue, various preprocessing techniques can be applied to transform the variables, such as normalization, scaling, or standardization, to ensure that all the variables are on the same scale and to prevent any one variable from having a disproportionate influence on the model. By transforming the variables, the performance and accuracy of the machine learning models can be improved. We will discuss our apporach in the latter sections."
   ]
  },
  {
   "cell_type": "code",
   "execution_count": 9,
   "id": "e7bb869f-c04e-43e9-94eb-0e4596ce2784",
   "metadata": {},
   "outputs": [
    {
     "data": {
      "text/html": [
       "<div>\n",
       "<style scoped>\n",
       "    .dataframe tbody tr th:only-of-type {\n",
       "        vertical-align: middle;\n",
       "    }\n",
       "\n",
       "    .dataframe tbody tr th {\n",
       "        vertical-align: top;\n",
       "    }\n",
       "\n",
       "    .dataframe thead th {\n",
       "        text-align: right;\n",
       "    }\n",
       "</style>\n",
       "<table border=\"1\" class=\"dataframe\">\n",
       "  <thead>\n",
       "    <tr style=\"text-align: right;\">\n",
       "      <th></th>\n",
       "      <th>Number of  reported results</th>\n",
       "      <th>Popularity</th>\n",
       "    </tr>\n",
       "  </thead>\n",
       "  <tbody>\n",
       "    <tr>\n",
       "      <th>count</th>\n",
       "      <td>357.000000</td>\n",
       "      <td>357.000000</td>\n",
       "    </tr>\n",
       "    <tr>\n",
       "      <th>mean</th>\n",
       "      <td>90918.050420</td>\n",
       "      <td>54.137255</td>\n",
       "    </tr>\n",
       "    <tr>\n",
       "      <th>std</th>\n",
       "      <td>89521.375911</td>\n",
       "      <td>21.628261</td>\n",
       "    </tr>\n",
       "    <tr>\n",
       "      <th>min</th>\n",
       "      <td>2569.000000</td>\n",
       "      <td>14.000000</td>\n",
       "    </tr>\n",
       "    <tr>\n",
       "      <th>25%</th>\n",
       "      <td>30214.000000</td>\n",
       "      <td>37.000000</td>\n",
       "    </tr>\n",
       "    <tr>\n",
       "      <th>50%</th>\n",
       "      <td>44212.000000</td>\n",
       "      <td>46.000000</td>\n",
       "    </tr>\n",
       "    <tr>\n",
       "      <th>75%</th>\n",
       "      <td>121356.000000</td>\n",
       "      <td>74.000000</td>\n",
       "    </tr>\n",
       "    <tr>\n",
       "      <th>max</th>\n",
       "      <td>361908.000000</td>\n",
       "      <td>100.000000</td>\n",
       "    </tr>\n",
       "  </tbody>\n",
       "</table>\n",
       "</div>"
      ],
      "text/plain": [
       "       Number of  reported results  Popularity\n",
       "count                   357.000000  357.000000\n",
       "mean                  90918.050420   54.137255\n",
       "std                   89521.375911   21.628261\n",
       "min                    2569.000000   14.000000\n",
       "25%                   30214.000000   37.000000\n",
       "50%                   44212.000000   46.000000\n",
       "75%                  121356.000000   74.000000\n",
       "max                  361908.000000  100.000000"
      ]
     },
     "execution_count": 9,
     "metadata": {},
     "output_type": "execute_result"
    }
   ],
   "source": [
    "#overall statistics\n",
    "\n",
    "df.describe()\n"
   ]
  },
  {
   "cell_type": "markdown",
   "id": "c3a73b15-6c49-4751-beb8-a1381d6fb0bc",
   "metadata": {},
   "source": [
    "Many statistical techniques, such as linear regressions and t-tests, assume normality in their underlying data distribution. To assess this assumption, histograms were utilized to visualize the distribution of the variables. The results showed that some variables had a skewed distribution."
   ]
  },
  {
   "cell_type": "code",
   "execution_count": 10,
   "id": "635b4e50-2b31-4f90-ba36-ace7d1b95c05",
   "metadata": {},
   "outputs": [
    {
     "data": {
      "image/png": "[encoded data removed]",
      "text/plain": [
       "<Figure size 1440x720 with 3 Axes>"
      ]
     },
     "metadata": {
      "needs_background": "light"
     },
     "output_type": "display_data"
    }
   ],
   "source": [
    "#Red Wine Normality Distribution\n",
    "fig = plt.figure(figsize = [20,10])\n",
    "cols = df.columns\n",
    "count = 1\n",
    "for col in cols:\n",
    "    ax = plt.subplot(2,6,count)\n",
    "    count+=1\n",
    "    plt.hist(df[col])\n",
    "    ax.set_xlabel(xlabel=col)\n",
    "    ax.set_ylabel(ylabel=\"count\")\n",
    "plt.tight_layout()\n",
    "plt.savefig('histogram_red.jpeg')\n",
    "\n",
    "#do different scaling for each, if it's too skwed we can do log scaling\n"
   ]
  },
  {
   "cell_type": "markdown",
   "id": "3c20ac09-d987-4766-9862-be5945e2beeb",
   "metadata": {},
   "source": [
    "We then employed the use of boxplots to detect outliers. Outliers are defined as data points that deviate significantly from the main distribution of the data (Point 1). These deviations can either be a result of measurement errors or can reflect the true variation of the data. Outliers can significantly impact the summary statistics and make them unrepresentative of the main distribution of the data. Our analysis of the boxplots revealed the presence of outliers or skewness in all variables except alcohol."
   ]
  },
  {
   "cell_type": "markdown",
   "id": "1f49591e-2023-47a9-a6eb-6ef0d5d27d23",
   "metadata": {},
   "source": [
    "In the process of data exploration (Point 5), it is important to assess the presence of high feature correlation within the data (Zuur, 2010). This is because, although high correlation may not necessarily degrade the prediction performance of the model, it can introduce collinearity and affect the estimated coefficients. This can lead to an unreliable interpretation of feature significance, as the coefficients may fluctuate significantly based on other correlated features. Our analysis through a heatmap revealed strong correlations among density, citric acid, and fixed acidity, as well as between free sulfur dioxide and total sulfur dioxide.\n",
    "\n",
    "#Pretend you are writing a machine learning professional but don't know what to do "
   ]
  },
  {
   "cell_type": "code",
   "execution_count": 12,
   "id": "d7d1d84b-0fd6-483d-b883-7abbaa850a82",
   "metadata": {},
   "outputs": [
    {
     "data": {
      "image/png": "[encoded data removed]",
      "text/plain": [
       "<Figure size 864x864 with 2 Axes>"
      ]
     },
     "metadata": {
      "needs_background": "light"
     },
     "output_type": "display_data"
    }
   ],
   "source": [
    "# Heatmap and Correlation \n",
    "#glue = sns.load_dataset(df).pivot(\"Model\", \"Task\", \"Score\")\n",
    "fig, ax = plt.subplots(figsize = (12,12))\n",
    "df1 = pd.DataFrame(df, columns=cols)\n",
    "sns.heatmap(df.corr(), annot=True, linewidths=0.5)\n",
    "plt.savefig('heatmap_red.jpeg')\n"
   ]
  },
  {
   "cell_type": "code",
   "execution_count": 21,
   "id": "57677004-109a-48dd-a2b3-7ba7aa04d3d5",
   "metadata": {},
   "outputs": [],
   "source": [
    "#getting inputs and target\n",
    "X = df.values[:, 2].reshape(-1,1)\n",
    "Y = df.values[:, 1]\n",
    "X"
   ]
  },
  {
   "cell_type": "code",
   "execution_count": 28,
   "id": "bf31d0bc-ce9d-437e-a79a-782557162fe8",
   "metadata": {},
   "outputs": [
    {
     "name": "stdout",
     "output_type": "stream",
     "text": [
      "Coefficients: [ 0.00000000e+00 -1.12192341e+04  1.78930092e+02 -6.54969559e-01]\n"
     ]
    },
    {
     "data": {
      "image/png": "[encoded data removed]",
      "text/plain": [
       "<Figure size 432x288 with 1 Axes>"
      ]
     },
     "metadata": {
      "needs_background": "light"
     },
     "output_type": "display_data"
    },
    {
     "ename": "AttributeError",
     "evalue": "'Series' object has no attribute 'reshape'",
     "output_type": "error",
     "traceback": [
      "\u001b[0;31m---------------------------------------------------------------------------\u001b[0m",
      "\u001b[0;31mAttributeError\u001b[0m                            Traceback (most recent call last)",
      "Input \u001b[0;32mIn [28]\u001b[0m, in \u001b[0;36m<cell line: 40>\u001b[0;34m()\u001b[0m\n\u001b[1;32m     38\u001b[0m \u001b[38;5;66;03m# Plot the data and the model\u001b[39;00m\n\u001b[1;32m     39\u001b[0m plt\u001b[38;5;241m.\u001b[39mscatter(x, y, color\u001b[38;5;241m=\u001b[39m\u001b[38;5;124m'\u001b[39m\u001b[38;5;124mblue\u001b[39m\u001b[38;5;124m'\u001b[39m, label\u001b[38;5;241m=\u001b[39m\u001b[38;5;124m'\u001b[39m\u001b[38;5;124mData\u001b[39m\u001b[38;5;124m'\u001b[39m)\n\u001b[0;32m---> 40\u001b[0m plt\u001b[38;5;241m.\u001b[39mplot(x, model\u001b[38;5;241m.\u001b[39mpredict(poly_transformer\u001b[38;5;241m.\u001b[39mfit_transform(\u001b[43mx\u001b[49m\u001b[38;5;241;43m.\u001b[39;49m\u001b[43mreshape\u001b[49m(\u001b[38;5;241m-\u001b[39m\u001b[38;5;241m1\u001b[39m,\u001b[38;5;241m1\u001b[39m))), color\u001b[38;5;241m=\u001b[39m\u001b[38;5;124m'\u001b[39m\u001b[38;5;124mred\u001b[39m\u001b[38;5;124m'\u001b[39m, label\u001b[38;5;241m=\u001b[39m\u001b[38;5;124m'\u001b[39m\u001b[38;5;124mModel\u001b[39m\u001b[38;5;124m'\u001b[39m)\n\u001b[1;32m     42\u001b[0m plt\u001b[38;5;241m.\u001b[39mlegend()\n\u001b[1;32m     43\u001b[0m \u001b[38;5;28mprint\u001b[39m(model\u001b[38;5;241m.\u001b[39mintercept_ \u001b[38;5;241m+\u001b[39m coeff[\u001b[38;5;241m0\u001b[39m]\u001b[38;5;241m*\u001b[39m\u001b[38;5;241m15\u001b[39m \u001b[38;5;241m+\u001b[39m coeff[\u001b[38;5;241m1\u001b[39m]\u001b[38;5;241m*\u001b[39m(\u001b[38;5;241m30\u001b[39m\u001b[38;5;241m*\u001b[39m\u001b[38;5;241m*\u001b[39m\u001b[38;5;241m2\u001b[39m))\n",
      "File \u001b[0;32m/opt/pub/eb/apps/all/DavidsonJupyter/2021-common-GCCcore-10.2.0/lib/python3.8/site-packages/pandas/core/generic.py:5575\u001b[0m, in \u001b[0;36mNDFrame.__getattr__\u001b[0;34m(self, name)\u001b[0m\n\u001b[1;32m   5568\u001b[0m \u001b[38;5;28;01mif\u001b[39;00m (\n\u001b[1;32m   5569\u001b[0m     name \u001b[38;5;129;01mnot\u001b[39;00m \u001b[38;5;129;01min\u001b[39;00m \u001b[38;5;28mself\u001b[39m\u001b[38;5;241m.\u001b[39m_internal_names_set\n\u001b[1;32m   5570\u001b[0m     \u001b[38;5;129;01mand\u001b[39;00m name \u001b[38;5;129;01mnot\u001b[39;00m \u001b[38;5;129;01min\u001b[39;00m \u001b[38;5;28mself\u001b[39m\u001b[38;5;241m.\u001b[39m_metadata\n\u001b[1;32m   5571\u001b[0m     \u001b[38;5;129;01mand\u001b[39;00m name \u001b[38;5;129;01mnot\u001b[39;00m \u001b[38;5;129;01min\u001b[39;00m \u001b[38;5;28mself\u001b[39m\u001b[38;5;241m.\u001b[39m_accessors\n\u001b[1;32m   5572\u001b[0m     \u001b[38;5;129;01mand\u001b[39;00m \u001b[38;5;28mself\u001b[39m\u001b[38;5;241m.\u001b[39m_info_axis\u001b[38;5;241m.\u001b[39m_can_hold_identifiers_and_holds_name(name)\n\u001b[1;32m   5573\u001b[0m ):\n\u001b[1;32m   5574\u001b[0m     \u001b[38;5;28;01mreturn\u001b[39;00m \u001b[38;5;28mself\u001b[39m[name]\n\u001b[0;32m-> 5575\u001b[0m \u001b[38;5;28;01mreturn\u001b[39;00m \u001b[38;5;28;43mobject\u001b[39;49m\u001b[38;5;241;43m.\u001b[39;49m\u001b[38;5;21;43m__getattribute__\u001b[39;49m\u001b[43m(\u001b[49m\u001b[38;5;28;43mself\u001b[39;49m\u001b[43m,\u001b[49m\u001b[43m \u001b[49m\u001b[43mname\u001b[49m\u001b[43m)\u001b[49m\n",
      "\u001b[0;31mAttributeError\u001b[0m: 'Series' object has no attribute 'reshape'"
     ]
    },
    {
     "data": {
      "image/png": "[encoded data removed]",
      "text/plain": [
       "<Figure size 432x288 with 1 Axes>"
      ]
     },
     "metadata": {
      "needs_background": "light"
     },
     "output_type": "display_data"
    }
   ],
   "source": [
    "import pandas as pd\n",
    "from sklearn.model_selection import train_test_split\n",
    "from sklearn.preprocessing import PolynomialFeatures\n",
    "from sklearn.linear_model import LinearRegression\n",
    "\n",
    "# Split the data into training and test sets\n",
    "X_train, X_test, y_train, y_test = train_test_split(df['Popularity'], df['Number of  reported results'], test_size= 0.2)\n",
    "\n",
    "# Create a polynomial feature transformer\n",
    "poly_transformer = PolynomialFeatures(degree=3)\n",
    "\n",
    "# Transform the input features to include polynomial features\n",
    "X_train_poly = poly_transformer.fit_transform(X_train.values.reshape(-1, 1))\n",
    "\n",
    "# Create a linear regression model\n",
    "model = LinearRegression(fit_intercept=True)\n",
    "\n",
    "# Fit the model to the training data\n",
    "model.fit(X_train_poly, y_train)\n",
    "\n",
    "y_predicted = model.predict(X_train_poly)\n",
    "\n",
    "# Get the coefficients\n",
    "coefficients = model.coef_\n",
    "\n",
    "print('Coefficients:', coefficients)\n",
    "\n",
    "x = df['Popularity']\n",
    "y = df['Number of  reported results']\n",
    "plt.scatter(x, y, color='blue', label='Data')\n",
    "plt.plot(x, model.predict(poly_transformer.transform(x.values.reshape(-1, 1))), color='red', label='Model')\n",
    "plt.xlabel('popularity')\n",
    "plt.ylabel('Number of reports')\n",
    "plt.title('Number of reports variation by popularity')\n",
    "plt.legend()\n",
    "plt.show()\n",
    "\n",
    "# Plot the data and the model\n",
    "plt.scatter(x, y, color='blue', label='Data')\n",
    "plt.plot(x, model.predict(poly_transformer.fit_transform(x.reshape(-1,1))), color='red', label='Model')\n",
    "\n",
    "plt.legend()\n",
    "print(model.intercept_ + coeff[0]*15 + coeff[1]*(30**2))"
   ]
  },
  {
   "cell_type": "markdown",
   "id": "8a44ff18-f103-47c4-8a0f-ad2e0bc25bb9",
   "metadata": {},
   "source": [
    "### Data Pre-processing"
   ]
  },
  {
   "cell_type": "code",
   "execution_count": 189,
   "id": "c6f7b33d-bc9e-46ca-bc27-e7d63cd2c32a",
   "metadata": {},
   "outputs": [],
   "source": [
    "#Train-Test, Split\n",
    "X_train, X_test, Y_train, Y_test = train_test_split(X, Y, test_size=0.2, random_state=42,shuffle=True)\n",
    " \n",
    "\n",
    "#Z scaling\n",
    "std_scaler = StandardScaler()\n",
    "# fit and transform the data\n",
    "X_train = pd.DataFrame(std_scaler.fit_transform(X_train))\n",
    "X_test = pd.DataFrame(std_scaler.fit_transform(X_test))"
   ]
  },
  {
   "cell_type": "markdown",
   "id": "96f94f40-2f44-4161-b2ca-930b33005eaf",
   "metadata": {},
   "source": [
    "### Baseline Model"
   ]
  },
  {
   "cell_type": "code",
   "execution_count": 190,
   "id": "c77725b0-7a32-4b6c-83b6-8e7a8f0ecbec",
   "metadata": {},
   "outputs": [
    {
     "name": "stdout",
     "output_type": "stream",
     "text": [
      "baseline mse:  9280239918.589727\n",
      "baseline mape:  1.2733004306330753\n"
     ]
    }
   ],
   "source": [
    "#Baseline Model\n",
    "m = len(Y_test)\n",
    "Y_pred =[]\n",
    "for i in range(m):\n",
    "    Y_pred.append(np.mean(Y))\n",
    "\n",
    "print(\"baseline mse: \", mean_squared_error(Y_test,Y_pred))\n",
    "print(\"baseline mape: \", mean_absolute_percentage_error(Y_test,Y_pred))"
   ]
  },
  {
   "cell_type": "markdown",
   "id": "97bedadb-6c75-4e7e-ab95-5ede60e67ca7",
   "metadata": {},
   "source": [
    "### Ridge Regressor Model"
   ]
  },
  {
   "cell_type": "code",
   "execution_count": 191,
   "id": "b5431d8d-cd9a-47a0-ae89-5cbbf0c57e06",
   "metadata": {},
   "outputs": [
    {
     "name": "stdout",
     "output_type": "stream",
     "text": [
      "Training data\n",
      "r:  0.41620681188738895\n",
      "mse:  4470331590.286425\n",
      "mape:  0.5950213841649078\n",
      "\n",
      "Testing data\n",
      "r:  0.4572220143682467\n",
      "mse:  4963161196.564915\n",
      "mape:  0.4405407184015721\n",
      "Optimal Alpha:  1.4508287784959402\n"
     ]
    }
   ],
   "source": [
    "#sklearn Ridge with builtin cross-validation\n",
    "r_alphas = np.logspace(-5, 2, 100) #grid search\n",
    "rmodel = RidgeCV(r_alphas).fit(X_train, Y_train)\n",
    "\n",
    "print(\"Training data\")\n",
    "Y_pred = rmodel.predict(X_train)\n",
    "print(\"r: \", rmodel.score(X_train, Y_train, sample_weight=None))\n",
    "print(\"mse: \", mean_squared_error(Y_train,Y_pred))\n",
    "print(\"mape: \", mean_absolute_percentage_error(Y_train,Y_pred))\n",
    "print()\n",
    "print(\"Testing data\")\n",
    "Y_pred = rmodel.predict(X_test)\n",
    "print(\"r: \", rmodel.score(X_test, Y_test, sample_weight=None))\n",
    "print(\"mse: \", mean_squared_error(Y_test,Y_pred))\n",
    "print(\"mape: \",mean_absolute_percentage_error(Y_test,Y_pred))\n",
    "print(\"Optimal Alpha: \", rmodel.alpha_)"
   ]
  },
  {
   "cell_type": "markdown",
   "id": "cd4d684e-3858-479c-bd5a-7e74bf169aac",
   "metadata": {},
   "source": [
    "### LASSO Model"
   ]
  },
  {
   "cell_type": "code",
   "execution_count": 167,
   "id": "e12b1ccb-ebe7-4d9e-ad44-8de87bba3080",
   "metadata": {},
   "outputs": [
    {
     "name": "stdout",
     "output_type": "stream",
     "text": [
      "Training data\n",
      "r:  0.416217072749532\n",
      "mse:  4470253018.872582\n",
      "mape:  0.5922206396739731\n",
      "\n",
      "Testing data\n",
      "r:  0.45777014198969224\n",
      "mse:  4958149118.3054085\n",
      "mape:  0.4376308399457405\n",
      "Optimal Alpha:  [56398.29933859]\n"
     ]
    }
   ],
   "source": [
    "# sklearn LASSO WITH CROSS VALIDATION\n",
    "lmodel = LassoCV(cv=10, random_state=0).fit(X_train, Y_train)\n",
    "\n",
    "print(\"Training data\")\n",
    "Y_pred = lmodel.predict(X_train)\n",
    "print(\"r: \", lmodel.score(X_train, Y_train, sample_weight=None))\n",
    "print(\"mse: \", mean_squared_error(Y_train,Y_pred))\n",
    "print(\"mape: \", mean_absolute_percentage_error(Y_train,Y_pred))\n",
    "print()\n",
    "print(\"Testing data\")\n",
    "Y_pred = lmodel.predict(X_test)\n",
    "print(\"r: \", lmodel.score(X_test, Y_test, sample_weight=None))\n",
    "print(\"mse: \", mean_squared_error(Y_test,Y_pred))\n",
    "print(\"mape: \",mean_absolute_percentage_error(Y_test,Y_pred))\n",
    "print(\"Optimal Alpha: \", lmodel.coef_)\n"
   ]
  },
  {
   "cell_type": "markdown",
   "id": "cae4db2e-d4f5-46f9-bf50-290f17d6fe87",
   "metadata": {},
   "source": [
    "### Elastic - Net Model"
   ]
  },
  {
   "cell_type": "code",
   "execution_count": 168,
   "id": "5ec318fb-51ec-4f47-a290-b611cf0c1ac1",
   "metadata": {},
   "outputs": [
    {
     "name": "stdout",
     "output_type": "stream",
     "text": [
      "Training data\n",
      "r:  0.416217072749532\n",
      "mse:  4470253018.872582\n",
      "mape:  0.5922206396739731\n",
      "\n",
      "Testing data\n",
      "r:  0.45777014198969224\n",
      "mse:  4958149118.3054085\n",
      "mape:  0.4376308399457405\n",
      "Optimal l1_ratio:  1.0\n"
     ]
    }
   ],
   "source": [
    "# sklearn Elastic Net with built in CV\n",
    "l1_ratios = np.linspace(0.001, 1, 100)\n",
    "emodel = ElasticNetCV(l1_ratio=l1_ratios,cv=10, random_state=0)\n",
    "emodel.fit(X_train, Y_train)\n",
    "\n",
    "print(\"Training data\")\n",
    "Y_pred = emodel.predict(X_train)\n",
    "print(\"r: \", emodel.score(X_train, Y_train, sample_weight=None))\n",
    "print(\"mse: \", mean_squared_error(Y_train,Y_pred))\n",
    "print(\"mape: \", mean_absolute_percentage_error(Y_train,Y_pred))\n",
    "print()\n",
    "print(\"Testing data\")\n",
    "Y_pred = emodel.predict(X_test)\n",
    "print(\"r: \", emodel.score(X_test, Y_test, sample_weight=None))\n",
    "print(\"mse: \", mean_squared_error(Y_test,Y_pred))\n",
    "print(\"mape: \",mean_absolute_percentage_error(Y_test,Y_pred))\n",
    "print(\"Optimal l1_ratio: \", emodel.l1_ratio_)\n",
    "\n"
   ]
  },
  {
   "cell_type": "markdown",
   "id": "37c94c09-a898-4e88-a931-3df3f056924f",
   "metadata": {},
   "source": [
    "### Support Vector Regression Model"
   ]
  },
  {
   "cell_type": "code",
   "execution_count": 14,
   "id": "fe1e5f09-fabd-45a1-bf16-135a83f88454",
   "metadata": {},
   "outputs": [
    {
     "name": "stdout",
     "output_type": "stream",
     "text": [
      "Training data\n",
      "r:  0.5825191837997474\n",
      "mse:  0.2716099170605077\n",
      "mape:  0.06504102896076158\n",
      "\n",
      "Testing data\n",
      "r:  0.4720747531991819\n",
      "mse:  0.34500224209632757\n",
      "mape:  0.08008931016348508\n"
     ]
    }
   ],
   "source": [
    "#sklearn SVR\n",
    "#model after grid search hyperparameter tuning\n",
    "smodel = SVR(kernel=\"rbf\", gamma=0.14)\n",
    "smodel.fit(X_train, Y_train)\n",
    "\n",
    "print(\"Training data\")\n",
    "Y_pred = smodel.predict(X_train)\n",
    "print(\"r: \", smodel.score(X_train, Y_train, sample_weight=None))\n",
    "print(\"mse: \", mean_squared_error(Y_train,Y_pred))\n",
    "print(\"mape: \", mean_absolute_percentage_error(Y_train,Y_pred))\n",
    "print()\n",
    "print(\"Testing data\")\n",
    "Y_pred = smodel.predict(X_test)\n",
    "print(\"r: \", smodel.score(X_test, Y_test, sample_weight=None))\n",
    "print(\"mse: \", mean_squared_error(Y_test,Y_pred))\n",
    "print(\"mape: \",mean_absolute_percentage_error(Y_test,Y_pred))\n",
    "\n"
   ]
  }
 ],
 "metadata": {
  "kernelspec": {
   "display_name": "Python 3.8",
   "language": "python",
   "name": "python3"
  },
  "language_info": {
   "codemirror_mode": {
    "name": "ipython",
    "version": 3
   },
   "file_extension": ".py",
   "mimetype": "text/x-python",
   "name": "python",
   "nbconvert_exporter": "python",
   "pygments_lexer": "ipython3",
   "version": "3.8.6"
  }
 },
 "nbformat": 4,
 "nbformat_minor": 5
}
